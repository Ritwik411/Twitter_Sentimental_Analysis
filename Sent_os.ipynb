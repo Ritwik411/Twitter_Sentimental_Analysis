{
  "nbformat": 4,
  "nbformat_minor": 0,
  "metadata": {
    "colab": {
      "name": "Sent_os.ipynb",
      "provenance": [],
      "collapsed_sections": []
    },
    "kernelspec": {
      "name": "python3",
      "display_name": "Python 3"
    }
  },
  "cells": [
    {
      "cell_type": "code",
      "metadata": {
        "id": "XqnkE32zx7Mn",
        "colab_type": "code",
        "colab": {}
      },
      "source": [
        "import tweepy\n",
        "from tweepy import OAuthHandler \n",
        "\n",
        "ck = \"wLpK3kFZdjYoKGW2hQNz5UYpx\"\n",
        "csk = \"QSPK5N7Ane34KKXSQBRxI591uMQZkBKEAljYTSY4CQ8OZW3JEH\"\n",
        "at = \"714731974292815873-5xmjZ3WItrDwYtJ6Dsbk3bQjJEXrsis\"\n",
        "ast = \"iiczZ6jPLYwLx5UYr3nxSjRmKk77FI4PrDFMewrUFQ0Az\"\n",
        "\n",
        "auth = tweepy.OAuthHandler(ck, csk)\n",
        "auth.set_access_token(at, ast)\n",
        "api = tweepy.API(auth) \n",
        "queries = [\"donald trump\",\"joe bidden\",\"bernie sanders\",\"elizabeth warren\", \"kamala harris\", \"election2020\", \"president\", \"USelection\"]\n",
        "tweets = []\n"
      ],
      "execution_count": 0,
      "outputs": []
    },
    {
      "cell_type": "code",
      "metadata": {
        "id": "Jk6ToWfByPvU",
        "colab_type": "code",
        "colab": {}
      },
      "source": [
        "#Fetch the tweets\n",
        "for item in queries:\n",
        "    org_tweets = api.search(q = item,count=100000)\n",
        "    for i in org_tweets:\n",
        "        tweets.append(i.text)"
      ],
      "execution_count": 0,
      "outputs": []
    },
    {
      "cell_type": "code",
      "metadata": {
        "id": "pZaL2g-S8k_g",
        "colab_type": "code",
        "colab": {}
      },
      "source": [
        "print(len(tweets))"
      ],
      "execution_count": 0,
      "outputs": []
    },
    {
      "cell_type": "code",
      "metadata": {
        "id": "mEeXNW6SyMW9",
        "colab_type": "code",
        "colab": {}
      },
      "source": [
        "#Import the regular expression library\n",
        "import re\n",
        "#Cleaning the tweets and stroing in t1\n",
        "t1 = []\n",
        "for i in tweets:\n",
        "    t1.append(' '.join(re.sub(\"(RT)|(@[A-Za-z0-9]+)|([^0-9A-Za-z \\t])|(\\w+:\\/\\/\\S+)\", \" \", i).split()))"
      ],
      "execution_count": 0,
      "outputs": []
    },
    {
      "cell_type": "code",
      "metadata": {
        "id": "02b96sZ6yhy8",
        "colab_type": "code",
        "colab": {}
      },
      "source": [
        "!pip install vaderSentiment\n",
        "from vaderSentiment.vaderSentiment import SentimentIntensityAnalyzer"
      ],
      "execution_count": 0,
      "outputs": []
    },
    {
      "cell_type": "code",
      "metadata": {
        "id": "tMD7c3GnyG01",
        "colab_type": "code",
        "colab": {}
      },
      "source": [
        "analyzer = SentimentIntensityAnalyzer()"
      ],
      "execution_count": 0,
      "outputs": []
    },
    {
      "cell_type": "code",
      "metadata": {
        "id": "XwssEeo9yKkk",
        "colab_type": "code",
        "colab": {}
      },
      "source": [
        "#Sentimental Analysis\n",
        "import pandas as pd\n",
        "df = pd.DataFrame(columns=['Tweet','Sentiment_Score','Sentiment'])\n",
        "df['Tweet'] = t1\n",
        "for i in range(len(df)):\n",
        "    sent_analysis = analyzer.polarity_scores(df['Tweet'][i])\n",
        "    df['Sentiment_Score'][i] = sent_analysis['compound']\n",
        "    if sent_analysis['compound']>=0.05:\n",
        "        df['Sentiment'][i] = 'Positive'\n",
        "    elif sent_analysis['compound']<=-0.05:\n",
        "        df['Sentiment'][i] = 'Negative'\n",
        "    else:\n",
        "        df['Sentiment'][i] = 'Neutral'"
      ],
      "execution_count": 0,
      "outputs": []
    },
    {
      "cell_type": "code",
      "metadata": {
        "id": "D0PY0zck2VZV",
        "colab_type": "code",
        "colab": {}
      },
      "source": [
        "print(df.head())"
      ],
      "execution_count": 0,
      "outputs": []
    },
    {
      "cell_type": "code",
      "metadata": {
        "id": "-7ZtcnOLIk6R",
        "colab_type": "code",
        "colab": {}
      },
      "source": [
        "df['Sentiment'].value_counts()"
      ],
      "execution_count": 0,
      "outputs": []
    }
  ]
}